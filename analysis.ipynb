{
 "cells": [
  {
   "cell_type": "code",
   "execution_count": 1,
   "metadata": {},
   "outputs": [
    {
     "name": "stdout",
     "output_type": "stream",
     "text": [
      "The number of collections: 19822\n",
      "Learn median: 22.8\n",
      "Relearn median: 18.0\n",
      "Recall median: 8.0\n",
      "Hard median: 11.76275\n",
      "Good median: 7.27\n",
      "Easy median: 5.7365\n",
      "First rating prob mean: [0.256, 0.084, 0.482, 0.177]\n",
      "Review rating prob mean: [0.224, 0.631, 0.144]\n"
     ]
    }
   ],
   "source": [
    "import json\n",
    "from pathlib import Path\n",
    "import numpy as np\n",
    "\n",
    "result_file = Path(f\"button_usage.jsonl\")\n",
    "if result_file.exists():\n",
    "    data = list(map(lambda x: json.loads(x), open(result_file).readlines()))\n",
    "\n",
    "    print(f\"The number of collections: {len(data)}\")\n",
    "\n",
    "    learn_cost = np.array([x[\"learn_cost\"] for x in data])\n",
    "    relearn_cost = np.array([x[\"relearn_cost\"] for x in data])\n",
    "    recall_cost = np.array([x[\"recall_cost\"] for x in data])\n",
    "    hard_cost = np.array([x[\"button_costs\"][0] for x in data])\n",
    "    good_cost = np.array([x[\"button_costs\"][1] for x in data])\n",
    "    easy_cost = np.array([x[\"button_costs\"][2] for x in data])\n",
    "\n",
    "    learn_median = np.median(learn_cost[learn_cost > 0])\n",
    "    relearn_median = np.median(relearn_cost[relearn_cost > 0])\n",
    "    recall_median = np.median(recall_cost[recall_cost > 0])\n",
    "    hard_median = np.median(hard_cost[hard_cost > 0])\n",
    "    good_median = np.median(good_cost[good_cost > 0])\n",
    "    easy_median = np.median(easy_cost[easy_cost > 0])\n",
    "    print(f\"Learn median: {learn_median}\")\n",
    "    print(f\"Relearn median: {relearn_median}\")\n",
    "    print(f\"Recall median: {recall_median}\")\n",
    "    print(f\"Hard median: {hard_median}\")\n",
    "    print(f\"Good median: {good_median}\")\n",
    "    print(f\"Easy median: {easy_median}\")\n",
    "\n",
    "    first_rating_probs = np.array([x[\"first_rating_prob\"] for x in data])\n",
    "    review_rating_probs = np.array([x[\"review_rating_prob\"] for x in data])\n",
    "\n",
    "    first_rating_probs_mean = np.mean(first_rating_probs, axis=0).round(3).tolist()\n",
    "    review_rating_probs_mean = np.mean(review_rating_probs, axis=0).round(3).tolist()\n",
    "    print(f\"First rating prob mean: {first_rating_probs_mean}\")\n",
    "    print(f\"Review rating prob mean: {review_rating_probs_mean}\")"
   ]
  }
 ],
 "metadata": {
  "kernelspec": {
   "display_name": "fsrs4anki",
   "language": "python",
   "name": "python3"
  },
  "language_info": {
   "codemirror_mode": {
    "name": "ipython",
    "version": 3
   },
   "file_extension": ".py",
   "mimetype": "text/x-python",
   "name": "python",
   "nbconvert_exporter": "python",
   "pygments_lexer": "ipython3",
   "version": "3.9.16"
  }
 },
 "nbformat": 4,
 "nbformat_minor": 2
}
