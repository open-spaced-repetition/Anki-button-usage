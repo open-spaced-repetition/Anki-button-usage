{
 "cells": [
  {
   "cell_type": "code",
   "execution_count": 1,
   "metadata": {},
   "outputs": [
    {
     "name": "stdout",
     "output_type": "stream",
     "text": [
      "The number of collections: 19998\n",
      "Learn costs median: [33.79, 24.3, 13.68, 6.5]\n",
      "Review costs median: [23.0, 11.68, 7.33, 5.6]\n",
      "First rating prob mean: [0.24, 0.094, 0.495, 0.171]\n",
      "Review rating prob mean: [0.224, 0.631, 0.145]\n",
      "First rating offset median: [-0.72, -0.15, -0.01, 0.0]\n",
      "First session len median: [2.02, 1.28, 0.81, 0.0]\n",
      "Forget rating offset median: -0.28\n",
      "Forget session len median: 1.05\n"
     ]
    }
   ],
   "source": [
    "import json\n",
    "from pathlib import Path\n",
    "import numpy as np\n",
    "\n",
    "result_file = Path(f\"button_usage.jsonl\")\n",
    "if result_file.exists():\n",
    "    data = list(map(lambda x: json.loads(x), open(result_file).readlines()))\n",
    "\n",
    "    print(f\"The number of collections: {len(data)}\")\n",
    "\n",
    "    learn_costs = np.array([x[\"learn_costs\"] for x in data])\n",
    "    review_costs = np.array([x[\"review_costs\"] for x in data])\n",
    "\n",
    "    learn_costs_mean = np.median(learn_costs, axis=0).round(3).tolist()\n",
    "    review_costs_mean = np.median(review_costs, axis=0).round(3).tolist()\n",
    "    print(f\"Learn costs median: {learn_costs_mean}\")\n",
    "    print(f\"Review costs median: {review_costs_mean}\")\n",
    "\n",
    "    first_rating_probs = np.array([x[\"first_rating_prob\"] for x in data])\n",
    "    review_rating_probs = np.array([x[\"review_rating_prob\"] for x in data])\n",
    "\n",
    "    first_rating_probs_mean = np.mean(first_rating_probs, axis=0).round(3).tolist()\n",
    "    review_rating_probs_mean = np.nanmean(review_rating_probs, axis=0).round(3).tolist()\n",
    "    print(f\"First rating prob mean: {first_rating_probs_mean}\")\n",
    "    print(f\"Review rating prob mean: {review_rating_probs_mean}\")\n",
    "\n",
    "    first_rating_offsets = np.array([x[\"first_rating_offset\"] for x in data])\n",
    "    first_session_lens = np.array([x[\"first_session_len\"] for x in data])\n",
    "    \n",
    "    first_rating_offsets_median = np.median(first_rating_offsets, axis=0).round(3).tolist()\n",
    "    first_session_lens_median = np.median(first_session_lens, axis=0).round(3).tolist()\n",
    "    print(f\"First rating offset median: {first_rating_offsets_median}\")\n",
    "    print(f\"First session len median: {first_session_lens_median}\")\n",
    "\n",
    "    forget_rating_offsets = np.array([x[\"forget_rating_offset\"] for x in data])\n",
    "    forget_session_lens = np.array([x[\"forget_session_len\"] for x in data])\n",
    "\n",
    "    forget_rating_offsets_median = np.median(forget_rating_offsets).round(3)\n",
    "    forget_session_lens_median = np.median(forget_session_lens).round(3)\n",
    "    print(f\"Forget rating offset median: {forget_rating_offsets_median}\")\n",
    "    print(f\"Forget session len median: {forget_session_lens_median}\")"
   ]
  }
 ],
 "metadata": {
  "kernelspec": {
   "display_name": "fsrs4anki",
   "language": "python",
   "name": "python3"
  },
  "language_info": {
   "codemirror_mode": {
    "name": "ipython",
    "version": 3
   },
   "file_extension": ".py",
   "mimetype": "text/x-python",
   "name": "python",
   "nbconvert_exporter": "python",
   "pygments_lexer": "ipython3",
   "version": "3.9.16"
  }
 },
 "nbformat": 4,
 "nbformat_minor": 2
}
