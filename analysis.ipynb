{
 "cells": [
  {
   "cell_type": "code",
   "execution_count": 1,
   "metadata": {},
   "outputs": [
    {
     "name": "stdout",
     "output_type": "stream",
     "text": [
      "The number of collections: 9999\n",
      "Learn costs median: [27.56, 22.53, 13.0, 7.48]\n",
      "Review costs median: [19.17, 12.7, 7.99, 5.91]\n",
      "First rating prob mean: [0.21, 0.099, 0.53, 0.161]\n",
      "Review rating prob mean: [0.227, 0.625, 0.148]\n",
      "First rating offset median: [-0.63, -0.27, -0.1, 0.0]\n",
      "First session len median: [1.51, 1.07, 0.7, 0.15]\n",
      "Forget rating offset median: -0.2\n",
      "Forget session len median: 0.7\n",
      "Short term recall mean: [0.739, 0.888, 0.912, 0.844]\n"
     ]
    }
   ],
   "source": [
    "import json\n",
    "from pathlib import Path\n",
    "import numpy as np\n",
    "\n",
    "result_file = Path(f\"button_usage.jsonl\")\n",
    "if result_file.exists():\n",
    "    data = list(map(lambda x: json.loads(x), open(result_file).readlines()))\n",
    "\n",
    "    print(f\"The number of collections: {len(data)}\")\n",
    "\n",
    "    learn_costs = np.array([x[\"learn_costs\"] for x in data])\n",
    "    review_costs = np.array([x[\"review_costs\"] for x in data])\n",
    "\n",
    "    learn_costs_mean = np.median(learn_costs, axis=0).round(3).tolist()\n",
    "    review_costs_mean = np.median(review_costs, axis=0).round(3).tolist()\n",
    "    print(f\"Learn costs median: {learn_costs_mean}\")\n",
    "    print(f\"Review costs median: {review_costs_mean}\")\n",
    "\n",
    "    first_rating_probs = np.array([x[\"first_rating_prob\"] for x in data])\n",
    "    review_rating_probs = np.array([x[\"review_rating_prob\"] for x in data])\n",
    "\n",
    "    first_rating_probs_mean = np.mean(first_rating_probs, axis=0).round(3).tolist()\n",
    "    review_rating_probs_mean = np.nanmean(review_rating_probs, axis=0).round(3).tolist()\n",
    "    print(f\"First rating prob mean: {first_rating_probs_mean}\")\n",
    "    print(f\"Review rating prob mean: {review_rating_probs_mean}\")\n",
    "\n",
    "    first_rating_offsets = np.array([x[\"first_rating_offset\"] for x in data])\n",
    "    first_session_lens = np.array([x[\"first_session_len\"] for x in data])\n",
    "\n",
    "    first_rating_offsets_median = (\n",
    "        np.median(first_rating_offsets, axis=0).round(3).tolist()\n",
    "    )\n",
    "    first_session_lens_median = np.median(first_session_lens, axis=0).round(3).tolist()\n",
    "    print(f\"First rating offset median: {first_rating_offsets_median}\")\n",
    "    print(f\"First session len median: {first_session_lens_median}\")\n",
    "\n",
    "    forget_rating_offsets = np.array([x[\"forget_rating_offset\"] for x in data])\n",
    "    forget_session_lens = np.array([x[\"forget_session_len\"] for x in data])\n",
    "\n",
    "    forget_rating_offsets_median = np.median(forget_rating_offsets).round(3)\n",
    "    forget_session_lens_median = np.median(forget_session_lens).round(3)\n",
    "    print(f\"Forget rating offset median: {forget_rating_offsets_median}\")\n",
    "    print(f\"Forget session len median: {forget_session_lens_median}\")\n",
    "\n",
    "    short_term_recall = np.array([x[\"short_term_recall\"] for x in data])\n",
    "    short_term_recall = short_term_recall[~(short_term_recall == 0).any(axis=1) & ~(short_term_recall == 1).any(axis=1)]\n",
    "    short_term_recall_mean = np.mean(short_term_recall, axis=0).round(3).tolist()\n",
    "    print(f\"Short term recall mean: {short_term_recall_mean}\")"
   ]
  }
 ],
 "metadata": {
  "kernelspec": {
   "display_name": "fsrs4anki",
   "language": "python",
   "name": "python3"
  },
  "language_info": {
   "codemirror_mode": {
    "name": "ipython",
    "version": 3
   },
   "file_extension": ".py",
   "mimetype": "text/x-python",
   "name": "python",
   "nbconvert_exporter": "python",
   "pygments_lexer": "ipython3",
   "version": "3.9.16"
  }
 },
 "nbformat": 4,
 "nbformat_minor": 2
}
